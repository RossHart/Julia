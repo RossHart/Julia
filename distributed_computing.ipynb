{
 "cells": [
  {
   "cell_type": "markdown",
   "metadata": {},
   "source": [
    "A quick notebook to show how distributed computing can be done very quickly in Julia. The following packages are used:\n",
    "\n",
    "- `Distributed`\n",
    "- `SharedArrays`\n",
    "\n",
    "`Distributed` allows for the easy distribution of jobs, and `SharedArrays` is a required component to allow the distributed for loop to access the array from memory at all times."
   ]
  },
  {
   "cell_type": "code",
   "execution_count": 15,
   "metadata": {},
   "outputs": [],
   "source": [
    "# load the relevant packages\n",
    "using Distributed\n",
    "using SharedArrays"
   ]
  },
  {
   "cell_type": "markdown",
   "metadata": {},
   "source": [
    "Set up the distributed computing cores"
   ]
  },
  {
   "cell_type": "code",
   "execution_count": 2,
   "metadata": {},
   "outputs": [
    {
     "name": "stdout",
     "output_type": "stream",
     "text": [
      "We have 4 procs and 3 workers\n"
     ]
    }
   ],
   "source": [
    "# count the number of CPU cores we have\n",
    "n_cores = length(Sys.cpu_info())\n",
    "# add cores to processes number\n",
    "addprocs(n_cores - 1)\n",
    "println(\"We have $(nprocs()) processes and $(nworkers()) workers\")"
   ]
  },
  {
   "cell_type": "markdown",
   "metadata": {},
   "source": [
    "Define some simple functions we want to test here"
   ]
  },
  {
   "cell_type": "code",
   "execution_count": 66,
   "metadata": {},
   "outputs": [
    {
     "data": {
      "text/plain": [
       "get_i_cubed_dist (generic function with 3 methods)"
      ]
     },
     "execution_count": 66,
     "metadata": {},
     "output_type": "execute_result"
    }
   ],
   "source": [
    "# simple function to create an array of cubed values\n",
    "function get_i_cubed(i_start=1, i_end=100)\n",
    "    i_cubed = Array{Int64}(undef, i_end)\n",
    "    for i in i_start:i_end\n",
    "        i_cubed[i] = i ^ 3\n",
    "    end\n",
    "    return i_cubed\n",
    "end\n",
    "\n",
    "# simple function to create an array of cubed values, \n",
    "# this time distributing amongst more cores\n",
    "function get_i_cubed_dist(i_start=1, i_end=100)\n",
    "    i_cubed = SharedArray{Int64}(i_end)\n",
    "    @sync @distributed for i in i_start:i_end\n",
    "        i_cubed[i] = i ^ 3\n",
    "    end\n",
    "    return i_cubed\n",
    "end"
   ]
  },
  {
   "cell_type": "code",
   "execution_count": 70,
   "metadata": {},
   "outputs": [
    {
     "name": "stdout",
     "output_type": "stream",
     "text": [
      "  5.089936 seconds (19 allocations: 762.940 MiB, 64.11% gc time)\n"
     ]
    },
    {
     "data": {
      "text/plain": [
       "100000000-element Array{Int64,1}:\n",
       "                   1\n",
       "                   8\n",
       "                  27\n",
       "                  64\n",
       "                 125\n",
       "                 216\n",
       "                 343\n",
       "                 512\n",
       "                 729\n",
       "                1000\n",
       "                1331\n",
       "                1728\n",
       "                2197\n",
       "                   ⋮\n",
       " 1673764241506895309\n",
       " 1703764235206895640\n",
       " 1733764229506895911\n",
       " 1763764224406896128\n",
       " 1793764219906896297\n",
       " 1823764216006896424\n",
       " 1853764212706896515\n",
       " 1883764210006896576\n",
       " 1913764207906896613\n",
       " 1943764206406896632\n",
       " 1973764205506896639\n",
       " 2003764205206896640"
      ]
     },
     "execution_count": 70,
     "metadata": {},
     "output_type": "execute_result"
    }
   ],
   "source": [
    "@time cubed_array = get_i_cubed(1, 10^8)"
   ]
  },
  {
   "cell_type": "code",
   "execution_count": 71,
   "metadata": {},
   "outputs": [
    {
     "name": "stdout",
     "output_type": "stream",
     "text": [
      "  1.548732 seconds (845 allocations: 39.500 KiB)\n"
     ]
    },
    {
     "data": {
      "text/plain": [
       "100000000-element SharedArray{Int64,1}:\n",
       "                   1\n",
       "                   8\n",
       "                  27\n",
       "                  64\n",
       "                 125\n",
       "                 216\n",
       "                 343\n",
       "                 512\n",
       "                 729\n",
       "                1000\n",
       "                1331\n",
       "                1728\n",
       "                2197\n",
       "                   ⋮\n",
       " 1673764241506895309\n",
       " 1703764235206895640\n",
       " 1733764229506895911\n",
       " 1763764224406896128\n",
       " 1793764219906896297\n",
       " 1823764216006896424\n",
       " 1853764212706896515\n",
       " 1883764210006896576\n",
       " 1913764207906896613\n",
       " 1943764206406896632\n",
       " 1973764205506896639\n",
       " 2003764205206896640"
      ]
     },
     "execution_count": 71,
     "metadata": {},
     "output_type": "execute_result"
    }
   ],
   "source": [
    "@time cubed_array_dist = get_i_cubed_dist(1, 10^8)"
   ]
  },
  {
   "cell_type": "code",
   "execution_count": null,
   "metadata": {},
   "outputs": [],
   "source": []
  }
 ],
 "metadata": {
  "kernelspec": {
   "display_name": "Julia 1.0.2",
   "language": "julia",
   "name": "julia-1.0"
  },
  "language_info": {
   "file_extension": ".jl",
   "mimetype": "application/julia",
   "name": "julia",
   "version": "1.0.2"
  }
 },
 "nbformat": 4,
 "nbformat_minor": 2
}
